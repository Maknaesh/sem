{
 "cells": [
  {
   "cell_type": "code",
   "execution_count": 2,
   "metadata": {},
   "outputs": [
    {
     "name": "stdout",
     "output_type": "stream",
     "text": [
      "ddfs\n",
      "2\n",
      "d\n"
     ]
    }
   ],
   "source": [
    "sttr = input()\n",
    "ge = []\n",
    "num = []\n",
    "for i in range (97,123):\n",
    "    g = sttr.count (chr(i))\n",
    "    if (g!=0):\n",
    "        ge.append(g)\n",
    "        num.append(i)\n",
    "f = ge.index(max(ge))\n",
    "print (ge[f])\n",
    "print(chr(num[f]))"
   ]
  },
  {
   "cell_type": "code",
   "execution_count": null,
   "metadata": {},
   "outputs": [],
   "source": []
  }
 ],
 "metadata": {
  "kernelspec": {
   "display_name": "Python 3.6",
   "language": "python",
   "name": "python36"
  },
  "language_info": {
   "codemirror_mode": {
    "name": "ipython",
    "version": 3
   },
   "file_extension": ".py",
   "mimetype": "text/x-python",
   "name": "python",
   "nbconvert_exporter": "python",
   "pygments_lexer": "ipython3",
   "version": "3.6.3"
  }
 },
 "nbformat": 4,
 "nbformat_minor": 2
}
