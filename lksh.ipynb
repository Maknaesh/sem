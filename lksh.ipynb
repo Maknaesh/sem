{
 "cells": [
  {
   "cell_type": "code",
   "execution_count": 12,
   "metadata": {},
   "outputs": [
    {
     "name": "stdout",
     "output_type": "stream",
     "text": [
      "3\n",
      "11\n",
      "-7777\n",
      "-7737\n",
      "-7737\n"
     ]
    }
   ],
   "source": [
    "n = int(input())\n",
    "f = []\n",
    "e = []\n",
    "for i in range (n):\n",
    "    k = 0\n",
    "    s = input()\n",
    "    e.append(s)\n",
    "    if (s[0]=='-'):\n",
    "        s = s[1:]\n",
    "    for j in range (9):\n",
    "        w = s.find(str(j))\n",
    "        if (w!=-1):\n",
    "            k +=1\n",
    "    f.append(k)\n",
    "g = f.index(max(f))\n",
    "print (e[g])"
   ]
  }
 ],
 "metadata": {
  "kernelspec": {
   "display_name": "Python 3.6",
   "language": "python",
   "name": "python36"
  },
  "language_info": {
   "codemirror_mode": {
    "name": "ipython",
    "version": 3
   },
   "file_extension": ".py",
   "mimetype": "text/x-python",
   "name": "python",
   "nbconvert_exporter": "python",
   "pygments_lexer": "ipython3",
   "version": "3.6.3"
  }
 },
 "nbformat": 4,
 "nbformat_minor": 2
}
