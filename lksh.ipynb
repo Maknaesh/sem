{
 "cells": [
  {
   "cell_type": "code",
   "execution_count": 7,
   "metadata": {},
   "outputs": [
    {
     "name": "stdout",
     "output_type": "stream",
     "text": [
      "5\n",
      "3\n",
      "2\n",
      "3\n",
      "4\n",
      "-1\n"
     ]
    }
   ],
   "source": [
    "import math\n",
    "def prost(a):\n",
    "    if a % 2 == 0 and a > 2: \n",
    "        return False\n",
    "    for i in range(3, int(math.sqrt(a)) + 1, 2):\n",
    "        if a % i == 0:\n",
    "            return False\n",
    "    return True\n",
    "pr = prost(33)\n",
    "pr = str(pr)\n",
    "pr\n",
    "n = int(input())\n",
    "k = int(input())\n",
    "j = 0\n",
    "s = []\n",
    "ne = []\n",
    "for j in range (k):\n",
    "    d = int(input())\n",
    "    s.append(d)\n",
    "for h in range (2, n+1):\n",
    "    pr = str(prost(h))\n",
    "    z = 0   \n",
    "    pr1=''\n",
    "    for z in range (len(s)):\n",
    "        if (h>s[z]) and (h%s[z]==0):\n",
    "            pr1 = 'False'\n",
    "    if ((pr1=='False') and (pr=='True')) or ((pr1 != 'False') and (pr=='False')):\n",
    "                                         ne.append(h)\n",
    "if (len(ne)!=0):\n",
    "    print (ne[0])\n",
    "else:\n",
    "    print ('-1')"
   ]
  },
  {
   "cell_type": "code",
   "execution_count": null,
   "metadata": {},
   "outputs": [],
   "source": [
    "for z in range (k):\n",
    "    sa = int(input())\n",
    "    for h in range (2,n+1):\n",
    "        if (h>sa) and (h%s[z]==0):\n",
    "            pr1 = 'False'"
   ]
  },
  {
   "cell_type": "code",
   "execution_count": null,
   "metadata": {},
   "outputs": [],
   "source": []
  },
  {
   "cell_type": "code",
   "execution_count": null,
   "metadata": {},
   "outputs": [],
   "source": []
  },
  {
   "cell_type": "code",
   "execution_count": null,
   "metadata": {},
   "outputs": [],
   "source": []
  },
  {
   "cell_type": "code",
   "execution_count": null,
   "metadata": {},
   "outputs": [],
   "source": []
  },
  {
   "cell_type": "code",
   "execution_count": null,
   "metadata": {},
   "outputs": [],
   "source": []
  },
  {
   "cell_type": "code",
   "execution_count": null,
   "metadata": {},
   "outputs": [],
   "source": []
  },
  {
   "cell_type": "code",
   "execution_count": null,
   "metadata": {},
   "outputs": [],
   "source": []
  },
  {
   "cell_type": "code",
   "execution_count": null,
   "metadata": {},
   "outputs": [],
   "source": []
  },
  {
   "cell_type": "code",
   "execution_count": null,
   "metadata": {},
   "outputs": [],
   "source": []
  },
  {
   "cell_type": "code",
   "execution_count": null,
   "metadata": {},
   "outputs": [],
   "source": []
  },
  {
   "cell_type": "code",
   "execution_count": 12,
   "metadata": {},
   "outputs": [
    {
     "name": "stdout",
     "output_type": "stream",
     "text": [
      "3\n",
      "11\n",
      "-7777\n",
      "-7737\n",
      "-7737\n"
     ]
    }
   ],
   "source": [
    "n = int(input())\n",
    "f = []\n",
    "e = []\n",
    "for i in range (n):\n",
    "    k = 0\n",
    "    s = input()\n",
    "    e.append(s)\n",
    "    if (s[0]=='-'):\n",
    "        s = s[1:]\n",
    "    for j in range (9):\n",
    "        w = s.find(str(j))\n",
    "        if (w!=-1):\n",
    "            k +=1\n",
    "    f.append(k)\n",
    "g = f.index(max(f))\n",
    "print (e[g])"
   ]
  },
  {
   "cell_type": "code",
   "execution_count": 8,
   "metadata": {},
   "outputs": [
    {
     "data": {
      "text/plain": [
       "-1"
      ]
     },
     "execution_count": 8,
     "metadata": {},
     "output_type": "execute_result"
    }
   ],
   "source": [
    "s = 'fdfd'\n",
    "s.find('s')"
   ]
  },
  {
   "cell_type": "code",
   "execution_count": 1,
   "metadata": {},
   "outputs": [
    {
     "name": "stdout",
     "output_type": "stream",
     "text": [
      "6\n",
      "160 173 138 145 153 170\n",
      "15 17 12 18 16 12\n",
      "138 173\n",
      "138 153\n"
     ]
    },
    {
     "ename": "IndexError",
     "evalue": "list index out of range",
     "output_type": "error",
     "traceback": [
      "\u001b[0;31m---------------------------------------------------------------------------\u001b[0m",
      "\u001b[0;31mIndexError\u001b[0m                                Traceback (most recent call last)",
      "\u001b[0;32m<ipython-input-1-3ca136b6fb67>\u001b[0m in \u001b[0;36m<module>\u001b[0;34m()\u001b[0m\n\u001b[1;32m     11\u001b[0m     \u001b[0mj\u001b[0m \u001b[0;34m=\u001b[0m \u001b[0mi\u001b[0m\u001b[0;34m\u001b[0m\u001b[0m\n\u001b[1;32m     12\u001b[0m     \u001b[0;32mwhile\u001b[0m \u001b[0;34m(\u001b[0m\u001b[0mz\u001b[0m\u001b[0;34m!=\u001b[0m\u001b[0;36m1\u001b[0m\u001b[0;34m)\u001b[0m\u001b[0;34m:\u001b[0m\u001b[0;34m\u001b[0m\u001b[0m\n\u001b[0;32m---> 13\u001b[0;31m         \u001b[0;32mif\u001b[0m \u001b[0;34m(\u001b[0m\u001b[0mh\u001b[0m\u001b[0;34m[\u001b[0m\u001b[0mj\u001b[0m\u001b[0;34m]\u001b[0m\u001b[0;34m<=\u001b[0m\u001b[0mh\u001b[0m\u001b[0;34m[\u001b[0m\u001b[0mj\u001b[0m\u001b[0;34m-\u001b[0m\u001b[0;36m1\u001b[0m\u001b[0;34m]\u001b[0m\u001b[0;34m)\u001b[0m \u001b[0;32mand\u001b[0m \u001b[0;34m(\u001b[0m\u001b[0;34m(\u001b[0m\u001b[0my\u001b[0m\u001b[0;34m[\u001b[0m\u001b[0mj\u001b[0m\u001b[0;34m]\u001b[0m\u001b[0;34m-\u001b[0m\u001b[0my\u001b[0m\u001b[0;34m[\u001b[0m\u001b[0mj\u001b[0m\u001b[0;34m-\u001b[0m\u001b[0;36m1\u001b[0m\u001b[0;34m]\u001b[0m\u001b[0;34m)\u001b[0m\u001b[0;34m<=\u001b[0m\u001b[0;36m5\u001b[0m\u001b[0;34m)\u001b[0m\u001b[0;34m:\u001b[0m\u001b[0;34m\u001b[0m\u001b[0m\n\u001b[0m\u001b[1;32m     14\u001b[0m             \u001b[0mk\u001b[0m \u001b[0;34m=\u001b[0m \u001b[0mh\u001b[0m\u001b[0;34m[\u001b[0m\u001b[0mj\u001b[0m\u001b[0;34m]\u001b[0m\u001b[0;34m\u001b[0m\u001b[0m\n\u001b[1;32m     15\u001b[0m             \u001b[0mprint\u001b[0m \u001b[0;34m(\u001b[0m\u001b[0mh\u001b[0m\u001b[0;34m[\u001b[0m\u001b[0mj\u001b[0m\u001b[0;34m]\u001b[0m\u001b[0;34m,\u001b[0m\u001b[0mh\u001b[0m\u001b[0;34m[\u001b[0m\u001b[0mj\u001b[0m\u001b[0;34m-\u001b[0m\u001b[0;36m1\u001b[0m\u001b[0;34m]\u001b[0m\u001b[0;34m)\u001b[0m\u001b[0;34m\u001b[0m\u001b[0m\n",
      "\u001b[0;31mIndexError\u001b[0m: list index out of range"
     ]
    }
   ],
   "source": [
    "p = []\n",
    "n = int(input())\n",
    "h = input().strip().split()\n",
    "h = list(map(int, h))\n",
    "y = input().strip().split()\n",
    "y = list(map(int, y))\n",
    "p.append(h[0])\n",
    "for i in range (1, n):\n",
    "    p.append(h[i])\n",
    "    z = 0\n",
    "    j = i\n",
    "    while (z!=1):\n",
    "        if (h[j]<=h[j-1]) and ((y[j]-y[j-1])<=5):\n",
    "            k = h[j]\n",
    "            print (h[j],h[j-1])\n",
    "            h[j]=h[-1]\n",
    "            h[-1]=k\n",
    "            j +=1\n",
    "        else:\n",
    "            z = 1\n",
    "print (p)"
   ]
  },
  {
   "cell_type": "code",
   "execution_count": null,
   "metadata": {},
   "outputs": [],
   "source": [
    "def fg(l):\n",
    "    a = 97\n",
    "    b = l.count('a')\n",
    "    for i in range (97,123):\n",
    "        d = l.count (chr(i))\n",
    "        if (d>b):\n",
    "            b = d\n",
    "            a = i\n",
    "    return chr(a)\n",
    "s = input()\n",
    "ss1 = []\n",
    "ss2 = []\n",
    "c = fg(s)\n",
    "s1 = s[:(len(s)/2-1)]\n",
    "s2 = s[(len(s)/2):]\n",
    "if (len(s)%2==0):\n",
    "    h = len(s)/2\n",
    "else:\n",
    "    h = len(s)/2+1\n",
    "for i in range (h):\n",
    "    "
   ]
  },
  {
   "cell_type": "code",
   "execution_count": 4,
   "metadata": {},
   "outputs": [
    {
     "name": "stdout",
     "output_type": "stream",
     "text": [
      "aaadfiiig\n",
      "a\n",
      "122\n"
     ]
    }
   ],
   "source": [
    "def fg(s):\n",
    "    a = 97\n",
    "    b = s.count('a')\n",
    "    for i in range (97,123):\n",
    "        d = s.count (chr(i))\n",
    "        if (d>b):\n",
    "            b = d\n",
    "            a = i\n",
    "    return chr(a)"
   ]
  },
  {
   "cell_type": "code",
   "execution_count": null,
   "metadata": {},
   "outputs": [],
   "source": []
  }
 ],
 "metadata": {
  "kernelspec": {
   "display_name": "Python 3.6",
   "language": "python",
   "name": "python36"
  },
  "language_info": {
   "codemirror_mode": {
    "name": "ipython",
    "version": 3
   },
   "file_extension": ".py",
   "mimetype": "text/x-python",
   "name": "python",
   "nbconvert_exporter": "python",
   "pygments_lexer": "ipython3",
   "version": "3.6.3"
  }
 },
 "nbformat": 4,
 "nbformat_minor": 2
}
